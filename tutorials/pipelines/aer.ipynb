{
 "cells": [
  {
   "cell_type": "code",
   "execution_count": 1,
   "id": "5d4ce4b8",
   "metadata": {},
   "outputs": [],
   "source": [
    "import pandas as pd\n",
    "\n",
    "from orion.data import load_signal"
   ]
  },
  {
   "cell_type": "markdown",
   "id": "ec5c7e8c",
   "metadata": {},
   "source": [
    "# 1. Data"
   ]
  },
  {
   "cell_type": "code",
   "execution_count": 2,
   "id": "da695e98",
   "metadata": {},
   "outputs": [
    {
     "data": {
      "text/html": [
       "<div>\n",
       "<style scoped>\n",
       "    .dataframe tbody tr th:only-of-type {\n",
       "        vertical-align: middle;\n",
       "    }\n",
       "\n",
       "    .dataframe tbody tr th {\n",
       "        vertical-align: top;\n",
       "    }\n",
       "\n",
       "    .dataframe thead th {\n",
       "        text-align: right;\n",
       "    }\n",
       "</style>\n",
       "<table border=\"1\" class=\"dataframe\">\n",
       "  <thead>\n",
       "    <tr style=\"text-align: right;\">\n",
       "      <th></th>\n",
       "      <th>timestamp</th>\n",
       "      <th>value</th>\n",
       "    </tr>\n",
       "  </thead>\n",
       "  <tbody>\n",
       "    <tr>\n",
       "      <th>0</th>\n",
       "      <td>1222819200</td>\n",
       "      <td>-0.366359</td>\n",
       "    </tr>\n",
       "    <tr>\n",
       "      <th>1</th>\n",
       "      <td>1222840800</td>\n",
       "      <td>-0.394108</td>\n",
       "    </tr>\n",
       "    <tr>\n",
       "      <th>2</th>\n",
       "      <td>1222862400</td>\n",
       "      <td>0.403625</td>\n",
       "    </tr>\n",
       "    <tr>\n",
       "      <th>3</th>\n",
       "      <td>1222884000</td>\n",
       "      <td>-0.362759</td>\n",
       "    </tr>\n",
       "    <tr>\n",
       "      <th>4</th>\n",
       "      <td>1222905600</td>\n",
       "      <td>-0.370746</td>\n",
       "    </tr>\n",
       "  </tbody>\n",
       "</table>\n",
       "</div>"
      ],
      "text/plain": [
       "    timestamp     value\n",
       "0  1222819200 -0.366359\n",
       "1  1222840800 -0.394108\n",
       "2  1222862400  0.403625\n",
       "3  1222884000 -0.362759\n",
       "4  1222905600 -0.370746"
      ]
     },
     "execution_count": 2,
     "metadata": {},
     "output_type": "execute_result"
    }
   ],
   "source": [
    "signal_name = 'S-1'\n",
    "\n",
    "data = load_signal(signal_name)\n",
    "\n",
    "data.head()"
   ]
  },
  {
   "cell_type": "markdown",
   "id": "96767bae",
   "metadata": {},
   "source": [
    "# 2. Pipeline"
   ]
  },
  {
   "cell_type": "code",
   "execution_count": 3,
   "id": "fa524c4c",
   "metadata": {},
   "outputs": [
    {
     "name": "stderr",
     "output_type": "stream",
     "text": [
      "WARNING:absl:At this time, the v2.11+ optimizer `tf.keras.optimizers.Adam` runs slowly on M1/M2 Macs, please use the legacy Keras optimizer instead, located at `tf.keras.optimizers.legacy.Adam`.\n"
     ]
    }
   ],
   "source": [
    "from mlblocks import MLPipeline\n",
    "\n",
    "pipeline_name = 'aer'\n",
    "\n",
    "pipeline = MLPipeline(pipeline_name)"
   ]
  },
  {
   "cell_type": "code",
   "execution_count": 4,
   "id": "5b889d9f",
   "metadata": {},
   "outputs": [
    {
     "name": "stderr",
     "output_type": "stream",
     "text": [
      "WARNING:absl:At this time, the v2.11+ optimizer `tf.keras.optimizers.Adam` runs slowly on M1/M2 Macs, please use the legacy Keras optimizer instead, located at `tf.keras.optimizers.legacy.Adam`.\n"
     ]
    }
   ],
   "source": [
    "hyperparameters = {\n",
    "    'orion.primitives.aer.AER#1': {\n",
    "        'epochs': 5,\n",
    "        'verbose': True\n",
    "    }\n",
    "}\n",
    "\n",
    "pipeline.set_hyperparameters(hyperparameters)"
   ]
  },
  {
   "cell_type": "markdown",
   "id": "0f6eddcc",
   "metadata": {},
   "source": [
    "## step by step execution\n",
    "\n",
    "MLPipelines are compose of a squence of primitives, these primitives apply tranformation and calculation operations to the data and updates the variables within the pipeline. To view the primitives used by the pipeline, we access its `primtivies` attribute. \n",
    "\n",
    "The `lstm_dynamic_threshold` contains 7 primitives. we will observe how the `context` (which are the variables held within the pipeline) are updated after the execution of each primitive."
   ]
  },
  {
   "cell_type": "code",
   "execution_count": 5,
   "id": "ea1faf86",
   "metadata": {},
   "outputs": [
    {
     "data": {
      "text/plain": [
       "['mlstars.custom.timeseries_preprocessing.time_segments_aggregate',\n",
       " 'sklearn.impute.SimpleImputer',\n",
       " 'sklearn.preprocessing.MinMaxScaler',\n",
       " 'mlstars.custom.timeseries_preprocessing.rolling_window_sequences',\n",
       " 'orion.primitives.timeseries_preprocessing.slice_array_by_dims',\n",
       " 'orion.primitives.aer.AER',\n",
       " 'orion.primitives.aer.score_anomalies',\n",
       " 'orion.primitives.timeseries_anomalies.find_anomalies']"
      ]
     },
     "execution_count": 5,
     "metadata": {},
     "output_type": "execute_result"
    }
   ],
   "source": [
    "pipeline.primitives"
   ]
  },
  {
   "cell_type": "markdown",
   "id": "554f5daa",
   "metadata": {},
   "source": [
    "### time segments aggregate\n",
    "this primitive creates an equi-spaced time series by aggregating values over fixed specified interval.\n",
    "\n",
    "* **input**: `X` which is an n-dimensional sequence of values.\n",
    "* **output**:\n",
    "    - `X` sequence of aggregated values, one column for each aggregation method.\n",
    "    - `index` sequence of index values (first index of each aggregated segment)."
   ]
  },
  {
   "cell_type": "code",
   "execution_count": 6,
   "id": "3b2c89f5",
   "metadata": {},
   "outputs": [
    {
     "data": {
      "text/plain": [
       "dict_keys(['X', 'index'])"
      ]
     },
     "execution_count": 6,
     "metadata": {},
     "output_type": "execute_result"
    }
   ],
   "source": [
    "context = pipeline.fit(data, output_=0)\n",
    "context.keys()"
   ]
  },
  {
   "cell_type": "code",
   "execution_count": 7,
   "id": "e69c4925",
   "metadata": {},
   "outputs": [
    {
     "name": "stdout",
     "output_type": "stream",
     "text": [
      "entry at 1222819200 has value [-0.36635895]\n",
      "entry at 1222840800 has value [-0.39410778]\n",
      "entry at 1222862400 has value [0.4036246]\n",
      "entry at 1222884000 has value [-0.36275906]\n",
      "entry at 1222905600 has value [-0.37074649]\n"
     ]
    }
   ],
   "source": [
    "for i, x in list(zip(context['index'], context['X']))[:5]:\n",
    "    print(\"entry at {} has value {}\".format(i, x))"
   ]
  },
  {
   "cell_type": "markdown",
   "id": "00be9392",
   "metadata": {},
   "source": [
    "### SimpleImputer\n",
    "this primitive is an imputation transformer for filling missing values.\n",
    "* **input**: `X` which is an n-dimensional sequence of values.\n",
    "* **output**: `X` which is a transformed version of X."
   ]
  },
  {
   "cell_type": "code",
   "execution_count": 8,
   "id": "9658b615",
   "metadata": {},
   "outputs": [
    {
     "name": "stderr",
     "output_type": "stream",
     "text": [
      "/opt/anaconda3/envs/orion/lib/python3.10/site-packages/sklearn/impute/_base.py:356: FutureWarning: The 'verbose' parameter was deprecated in version 1.1 and will be removed in 1.3. A warning will always be raised upon the removal of empty columns in the future version.\n",
      "  warnings.warn(\n"
     ]
    },
    {
     "data": {
      "text/plain": [
       "dict_keys(['index', 'X'])"
      ]
     },
     "execution_count": 8,
     "metadata": {},
     "output_type": "execute_result"
    }
   ],
   "source": [
    "step = 1\n",
    "\n",
    "context = pipeline.fit(**context, output_=step, start_=step)\n",
    "context.keys()"
   ]
  },
  {
   "cell_type": "markdown",
   "id": "86a369ed",
   "metadata": {},
   "source": [
    "### MinMaxScaler\n",
    "this primitive transforms features by scaling each feature to a given range.\n",
    "* **input**: `X` the data used to compute the per-feature minimum and maximum used for later scaling along the features axis.\n",
    "* **output**: `X` which is a transformed version of X."
   ]
  },
  {
   "cell_type": "code",
   "execution_count": 9,
   "id": "d130e641",
   "metadata": {},
   "outputs": [
    {
     "data": {
      "text/plain": [
       "dict_keys(['index', 'X'])"
      ]
     },
     "execution_count": 9,
     "metadata": {},
     "output_type": "execute_result"
    }
   ],
   "source": [
    "step = 2\n",
    "\n",
    "context = pipeline.fit(**context, output_=step, start_=step)\n",
    "context.keys()"
   ]
  },
  {
   "cell_type": "code",
   "execution_count": 10,
   "id": "5d15a6e8",
   "metadata": {},
   "outputs": [
    {
     "name": "stdout",
     "output_type": "stream",
     "text": [
      "entry at 1222819200 has value [-0.36635895]\n",
      "entry at 1222840800 has value [-0.39410778]\n",
      "entry at 1222862400 has value [0.4036246]\n",
      "entry at 1222884000 has value [-0.36275906]\n",
      "entry at 1222905600 has value [-0.37074649]\n"
     ]
    }
   ],
   "source": [
    "# after scaling the data between [-1, 1]\n",
    "# in this example, no change is observed\n",
    "# since the data was pre-handedly scaled\n",
    "\n",
    "for i, x in list(zip(context['index'], context['X']))[:5]:\n",
    "    print(\"entry at {} has value {}\".format(i, x))"
   ]
  },
  {
   "cell_type": "markdown",
   "id": "5b9eeac4",
   "metadata": {},
   "source": [
    "### rolling window sequence\n",
    "this primitive generates many sub-sequences of the original sequence. it uses a rolling window approach to create the sub-sequences out of time series data.\n",
    "\n",
    "* **input**: \n",
    "    - `X` n-dimensional sequence to iterate over.\n",
    "    - `index` array containing the index values of X.\n",
    "* **output**:\n",
    "    - `X` input sequences.\n",
    "    - `y` target sequences.\n",
    "    - `index` first index value of each input sequence.\n",
    "    - `target_index` first index value of each target sequence."
   ]
  },
  {
   "cell_type": "code",
   "execution_count": 11,
   "id": "32759182",
   "metadata": {},
   "outputs": [
    {
     "data": {
      "text/plain": [
       "dict_keys(['index', 'X', 'y', 'X_index', 'y_index'])"
      ]
     },
     "execution_count": 11,
     "metadata": {},
     "output_type": "execute_result"
    }
   ],
   "source": [
    "step = 3\n",
    "\n",
    "context = pipeline.fit(**context, output_=step, start_=step)\n",
    "context.keys()"
   ]
  },
  {
   "cell_type": "code",
   "execution_count": 12,
   "id": "2500967d",
   "metadata": {},
   "outputs": [
    {
     "name": "stdout",
     "output_type": "stream",
     "text": [
      "X shape = (10049, 100, 1)\n",
      "y shape = (10049, 1)\n",
      "X index shape = (10149,)\n",
      "y index shape = (10049,)\n"
     ]
    }
   ],
   "source": [
    "# after slicing X into multiple sub-sequences\n",
    "# we obtain a 3 dimensional matrix X where\n",
    "# the shape indicates (# slices, window size, 1)\n",
    "# and similarly y is (# slices, target size)\n",
    "\n",
    "print(\"X shape = {}\\ny shape = {}\\nX index shape = {}\\ny index shape = {}\".format(\n",
    "    context['X'].shape, context['y'].shape, context['index'].shape, context['y_index'].shape))\n",
    "\n",
    "y_ = context['y'].copy() # make a copy to copare later"
   ]
  },
  {
   "cell_type": "markdown",
   "id": "38070b3d-2276-4730-897a-f7178f17e05b",
   "metadata": {},
   "source": [
    "### slice array by dims\n",
    "\n",
    "this primitive selects a particular channel from `X` to try and reconstruct / predict it.\n",
    "\n",
    "* **input**:\n",
    "    * `X` n-dimensional array containing the input sequences.\n",
    "    * `target_index` which index from `X` to slice out.\n",
    "* **output**:\n",
    "    * `y` 1-dimenstional array containing the target sequences."
   ]
  },
  {
   "cell_type": "code",
   "execution_count": 13,
   "id": "34eddaa6-02b6-48bf-b72d-512a51e597b1",
   "metadata": {},
   "outputs": [
    {
     "data": {
      "text/plain": [
       "dict_keys(['index', 'X_index', 'y_index', 'X', 'y'])"
      ]
     },
     "execution_count": 13,
     "metadata": {},
     "output_type": "execute_result"
    }
   ],
   "source": [
    "step = 4\n",
    "\n",
    "context = pipeline.fit(**context, output_=step, start_=step)\n",
    "context.keys()"
   ]
  },
  {
   "cell_type": "markdown",
   "id": "92a03719",
   "metadata": {},
   "source": [
    "### AER\n",
    "this is a hybrid prediction and reconstruction model using LSTM layers. you can read more about it in the [related paper](https://arxiv.org/pdf/2212.13558).\n",
    "\n",
    "* **input**: \n",
    "    - `X` n-dimensional array containing the input sequences for the model.\n",
    "    - `y` n-dimensional array containing the target sequences for the model.\n",
    "* **output**: `y_hat` predicted values."
   ]
  },
  {
   "cell_type": "code",
   "execution_count": 14,
   "id": "062598c1",
   "metadata": {},
   "outputs": [
    {
     "name": "stdout",
     "output_type": "stream",
     "text": [
      "Epoch 1/5\n",
      "126/126 [==============================] - 7s 33ms/step - loss: 0.1941 - tf.__operators__.getitem_loss: 0.1890 - tf.__operators__.getitem_1_loss: 0.2001 - tf.__operators__.getitem_2_loss: 0.1873 - val_loss: 0.2225 - val_tf.__operators__.getitem_loss: 0.2139 - val_tf.__operators__.getitem_1_loss: 0.2240 - val_tf.__operators__.getitem_2_loss: 0.2283\n",
      "Epoch 2/5\n",
      "126/126 [==============================] - 3s 27ms/step - loss: 0.1858 - tf.__operators__.getitem_loss: 0.1769 - tf.__operators__.getitem_1_loss: 0.1951 - tf.__operators__.getitem_2_loss: 0.1763 - val_loss: 0.2144 - val_tf.__operators__.getitem_loss: 0.2175 - val_tf.__operators__.getitem_1_loss: 0.2104 - val_tf.__operators__.getitem_2_loss: 0.2193\n",
      "Epoch 3/5\n",
      "126/126 [==============================] - 4s 28ms/step - loss: 0.1796 - tf.__operators__.getitem_loss: 0.1714 - tf.__operators__.getitem_1_loss: 0.1881 - tf.__operators__.getitem_2_loss: 0.1709 - val_loss: 0.2110 - val_tf.__operators__.getitem_loss: 0.2234 - val_tf.__operators__.getitem_1_loss: 0.2050 - val_tf.__operators__.getitem_2_loss: 0.2107\n",
      "Epoch 4/5\n",
      "126/126 [==============================] - 3s 28ms/step - loss: 0.1767 - tf.__operators__.getitem_loss: 0.1666 - tf.__operators__.getitem_1_loss: 0.1870 - tf.__operators__.getitem_2_loss: 0.1664 - val_loss: 0.2096 - val_tf.__operators__.getitem_loss: 0.2116 - val_tf.__operators__.getitem_1_loss: 0.2059 - val_tf.__operators__.getitem_2_loss: 0.2150\n",
      "Epoch 5/5\n",
      "126/126 [==============================] - 3s 28ms/step - loss: 0.1753 - tf.__operators__.getitem_loss: 0.1643 - tf.__operators__.getitem_1_loss: 0.1865 - tf.__operators__.getitem_2_loss: 0.1639 - val_loss: 0.2168 - val_tf.__operators__.getitem_loss: 0.2143 - val_tf.__operators__.getitem_1_loss: 0.2152 - val_tf.__operators__.getitem_2_loss: 0.2226\n",
      "315/315 [==============================] - 1s 2ms/step\n",
      "315/315 [==============================] - 1s 3ms/step\n"
     ]
    },
    {
     "data": {
      "text/plain": [
       "dict_keys(['index', 'X_index', 'y_index', 'X', 'y', 'ry_hat', 'y_hat', 'fy_hat'])"
      ]
     },
     "execution_count": 14,
     "metadata": {},
     "output_type": "execute_result"
    }
   ],
   "source": [
    "step = 5\n",
    "\n",
    "context = pipeline.fit(**context, output_=step, start_=step)\n",
    "context.keys()"
   ]
  },
  {
   "cell_type": "code",
   "execution_count": 15,
   "id": "a9007107",
   "metadata": {},
   "outputs": [
    {
     "name": "stdout",
     "output_type": "stream",
     "text": [
      "entry at 1224979200 has value [-0.33798499], predicted value [-0.04981399]\n",
      "entry at 1225000800 has value [1.], predicted value [0.17882237]\n",
      "entry at 1225022400 has value [-0.34946279], predicted value [-0.09820206]\n",
      "entry at 1225044000 has value [-0.37232052], predicted value [0.08256851]\n",
      "entry at 1225065600 has value [1.], predicted value [-0.0409485]\n"
     ]
    }
   ],
   "source": [
    "ry, fy = context['y'][:, 0], context['y'][:, -1]\n",
    "\n",
    "for i, y, y_hat in list(zip(context['y_index'], fy, context['fy_hat']))[:5]:\n",
    "    print(\"entry at {} has value {}, predicted value {}\".format(i, y, y_hat))"
   ]
  },
  {
   "cell_type": "markdown",
   "id": "adeadad7",
   "metadata": {},
   "source": [
    "### score anomalies\n",
    "\n",
    "this primitive computes an array of errors comparing predictions and expected output.\n",
    "\n",
    "* **input**: \n",
    "    - `y` ground truth.\n",
    "    - `y_hat` reconstructed values.\n",
    "    - `fy_hat` forward prediction values.\n",
    "    - `ry_hat` reverse prediction values.\n",
    "* **output**: `errors` array of errors."
   ]
  },
  {
   "cell_type": "code",
   "execution_count": 16,
   "id": "56173e5e",
   "metadata": {},
   "outputs": [
    {
     "data": {
      "text/plain": [
       "dict_keys(['index', 'X_index', 'y_index', 'ry_hat', 'y_hat', 'fy_hat', 'X', 'y', 'errors'])"
      ]
     },
     "execution_count": 16,
     "metadata": {},
     "output_type": "execute_result"
    }
   ],
   "source": [
    "step = 6\n",
    "\n",
    "context = pipeline.fit(**context, output_=step, start_=step)\n",
    "context.keys()"
   ]
  },
  {
   "cell_type": "code",
   "execution_count": 17,
   "id": "125b1fc9",
   "metadata": {},
   "outputs": [
    {
     "name": "stdout",
     "output_type": "stream",
     "text": [
      "entry at 1224979200 has error value 1.000\n",
      "entry at 1225000800 has error value 1.353\n",
      "entry at 1225022400 has error value 1.353\n",
      "entry at 1225044000 has error value 1.353\n",
      "entry at 1225065600 has error value 1.353\n"
     ]
    }
   ],
   "source": [
    "for i, e in list(zip(context['y_index'], context['errors']))[:5]:\n",
    "    print(\"entry at {} has error value {:.3f}\".format(i, e))"
   ]
  },
  {
   "cell_type": "code",
   "execution_count": 18,
   "id": "a70e93e3-be2a-4893-b6fa-c1aa374232b0",
   "metadata": {},
   "outputs": [
    {
     "data": {
      "image/png": "[encoded data removed]",
      "text/plain": [
       "<Figure size 1000x250 with 1 Axes>"
      ]
     },
     "metadata": {},
     "output_type": "display_data"
    }
   ],
   "source": [
    "import matplotlib.pyplot as plt\n",
    "\n",
    "fig = plt.figure(figsize=(10, 2.5))\n",
    "ax = fig.gca()\n",
    "\n",
    "t = data['timestamp'].values\n",
    "\n",
    "data.plot(x='timestamp', y='value', ax=ax)\n",
    "plt.plot(t[100:], context['fy_hat'], label='fy')\n",
    "plt.plot(t[:-100], context['ry_hat'], label='ry')\n",
    "\n",
    "plt.plot(t[:-1], context['errors'], label='errors')\n",
    "plt.legend(ncols=4)\n",
    "\n",
    "plt.show();"
   ]
  },
  {
   "cell_type": "markdown",
   "id": "a15a1d20",
   "metadata": {},
   "source": [
    "### find anomalies\n",
    "this primitive extracts anomalies from sequences of errors following the approach explained in the [related paper](https://arxiv.org/pdf/1802.04431.pdf).\n",
    "\n",
    "* **input**: \n",
    "    - `errors` array of errors.\n",
    "    - `target_index` array of indices of errors.\n",
    "* **output**: `y` array containing start-index, end-index, score for each anomalous sequence that was found."
   ]
  },
  {
   "cell_type": "code",
   "execution_count": 19,
   "id": "ac7ad495",
   "metadata": {},
   "outputs": [
    {
     "data": {
      "text/plain": [
       "dict_keys(['index', 'X_index', 'y_index', 'ry_hat', 'y_hat', 'fy_hat', 'errors', 'X', 'y'])"
      ]
     },
     "execution_count": 19,
     "metadata": {},
     "output_type": "execute_result"
    }
   ],
   "source": [
    "step = 7\n",
    "\n",
    "context = pipeline.fit(**context, output_=step, start_=step)\n",
    "context.keys()"
   ]
  },
  {
   "cell_type": "code",
   "execution_count": 20,
   "id": "1aebdbc1",
   "metadata": {},
   "outputs": [
    {
     "data": {
      "text/html": [
       "<div>\n",
       "<style scoped>\n",
       "    .dataframe tbody tr th:only-of-type {\n",
       "        vertical-align: middle;\n",
       "    }\n",
       "\n",
       "    .dataframe tbody tr th {\n",
       "        vertical-align: top;\n",
       "    }\n",
       "\n",
       "    .dataframe thead th {\n",
       "        text-align: right;\n",
       "    }\n",
       "</style>\n",
       "<table border=\"1\" class=\"dataframe\">\n",
       "  <thead>\n",
       "    <tr style=\"text-align: right;\">\n",
       "      <th></th>\n",
       "      <th>start</th>\n",
       "      <th>end</th>\n",
       "      <th>severity</th>\n",
       "    </tr>\n",
       "  </thead>\n",
       "  <tbody>\n",
       "    <tr>\n",
       "      <th>0</th>\n",
       "      <td>1.400652e+09</td>\n",
       "      <td>1.405490e+09</td>\n",
       "      <td>0.135115</td>\n",
       "    </tr>\n",
       "  </tbody>\n",
       "</table>\n",
       "</div>"
      ],
      "text/plain": [
       "          start           end  severity\n",
       "0  1.400652e+09  1.405490e+09  0.135115"
      ]
     },
     "execution_count": 20,
     "metadata": {},
     "output_type": "execute_result"
    }
   ],
   "source": [
    "pd.DataFrame(context['y'], columns=['start', 'end', 'severity'])"
   ]
  }
 ],
 "metadata": {
  "kernelspec": {
   "display_name": "Python 3 (ipykernel)",
   "language": "python",
   "name": "python3"
  },
  "language_info": {
   "codemirror_mode": {
    "name": "ipython",
    "version": 3
   },
   "file_extension": ".py",
   "mimetype": "text/x-python",
   "name": "python",
   "nbconvert_exporter": "python",
   "pygments_lexer": "ipython3",
   "version": "3.10.14"
  }
 },
 "nbformat": 4,
 "nbformat_minor": 5
}
