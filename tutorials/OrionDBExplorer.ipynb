{
 "cells": [
  {
   "cell_type": "code",
   "execution_count": 1,
   "metadata": {},
   "outputs": [],
   "source": [
    "# Logging setup\n",
    "import logging\n",
    "\n",
    "logging.basicConfig(level=logging.INFO)\n",
    "logging.getLogger().setLevel(level=logging.ERROR)\n",
    "logging.getLogger('orion').setLevel(level=logging.INFO)\n",
    "\n",
    "import warnings\n",
    "warnings.simplefilter(\"ignore\")"
   ]
  },
  {
   "cell_type": "markdown",
   "metadata": {},
   "source": [
    "# Orion Tutorial\n",
    "\n",
    "In the following steps we will learn how to set Orion up, run pipelines to detect anomalies\n",
    "on our timeseries and then explore the results.\n",
    "\n",
    "Overall, the steps that we will perform are:\n",
    "\n",
    "1. Add _Datasets_, _Signals_, _Templates_, _Pipelines_ and _Experiments_ to our Database.\n",
    "2. Create start _Dataruns_, which create _Signalruns_ and _Events_.\n",
    "3. Explore the _Signalrun_ results and the detected _Events_.\n",
    "4. Add _Annotations_ to the existing _Events_ as well as new manual _Events_.\n",
    "\n",
    "## Creating an instance of the OrionDBExplorer\n",
    "\n",
    "In order to connect to the database, all you need to do is import and create an instance of the\n",
    "`OrionDBExplorer` class.\n",
    "\n",
    "Note that, because of the dynamic schema-less nature of MongoDB, no database initialization\n",
    "or table creation is needed. All you need to do start using a new database is create the\n",
    "`OrionDBExplorer` instance with the right connection details and start using it!\n",
    "\n",
    "In order to create the `OrionDBExplorer` instance you will need to pass:\n",
    "\n",
    "* `user`: An identifier of the user that is running Orion.\n",
    "* `database`: The name of the MongoDB database to use. This is optional and defaults to `orion`."
   ]
  },
  {
   "cell_type": "code",
   "execution_count": 2,
   "metadata": {},
   "outputs": [],
   "source": [
    "from orion.db import OrionDBExplorer\n",
    "\n",
    "orex = OrionDBExplorer(user='my_username', database='orion-usage-example')"
   ]
  },
  {
   "cell_type": "markdown",
   "metadata": {},
   "source": [
    "This will directly create a connection to the database named `'orion'` at the default\n",
    "MongoDB host, `localhost`, and port, `27017`.\n",
    "\n",
    "In case you wanted to connect to a different database, host or port, or in case user authentication\n",
    "is enabled in your MongoDB instance, you can pass a dictionary or a path to a JSON file containing\n",
    "any required additional arguments:\n",
    "\n",
    "* `host`: Hostname or IP address of the MongoDB Instance. Defaults to `'localhost'`.\n",
    "* `port`: Port to which MongoDB is listening. Defaults to `27017`.\n",
    "* `username`: username to authenticate with.\n",
    "* `password`: password to authenticate with.\n",
    "* `authentication_source`: database to authenticate against."
   ]
  },
  {
   "cell_type": "markdown",
   "metadata": {},
   "source": [
    "Once we have created the `OrionDBExplorer` instance, and to be sure that we are ready to follow\n",
    "the tutorial, let's do the following two set-up setps:"
   ]
  },
  {
   "cell_type": "markdown",
   "metadata": {},
   "source": [
    "1. Drop the `orion-usage-example` database\n",
    "\n",
    "**WARNING**: This will remove all the data that exists in this database!"
   ]
  },
  {
   "cell_type": "code",
   "execution_count": 3,
   "metadata": {},
   "outputs": [],
   "source": [
    "orex.drop_database()"
   ]
  },
  {
   "cell_type": "markdown",
   "metadata": {},
   "source": [
    "2. Make sure to have downloaded some demo data using the `orion.data.download_demo()` function"
   ]
  },
  {
   "cell_type": "code",
   "execution_count": 4,
   "metadata": {},
   "outputs": [
    {
     "name": "stderr",
     "output_type": "stream",
     "text": [
      "INFO:orion.data:Downloading Orion Demo Data to folder orion-data\n",
      "INFO:orion.data:Downloading CSV P-1 from https://d3-ai-orion.s3.amazonaws.com/P-1.csv\n",
      "INFO:orion.data:Downloading CSV S-1 from https://d3-ai-orion.s3.amazonaws.com/S-1.csv\n",
      "INFO:orion.data:Downloading CSV E-1 from https://d3-ai-orion.s3.amazonaws.com/E-1.csv\n"
     ]
    }
   ],
   "source": [
    "from orion.data import download_demo\n",
    "\n",
    "download_demo()"
   ]
  },
  {
   "cell_type": "markdown",
   "metadata": {},
   "source": [
    "This will create a folder called `orion-data` in your current directory with the 3 CSV files\n",
    "that we will use later on."
   ]
  },
  {
   "cell_type": "markdown",
   "metadata": {},
   "source": [
    "## Setting up the Orion Environment\n",
    "\n",
    "The first thing that you will need to do to start using **Orion** with a Database will be\n",
    "to add information about your data and your pipelines.\n",
    "\n",
    "This can be done by using the methods of the `OrionDBExplorer` class that are documenteted below,\n",
    "which allow creating the corresponding objects in the Database.\n",
    "\n",
    "### Add a Dataset\n",
    "\n",
    "In order to add a dataset you can use the `add_dataset` method, which has the following arguments:\n",
    "\n",
    "* `name (str)`: Name of the dataset\n",
    "* `entity (str)`: Name or Id of the entity which this dataset is associated to\n",
    "\n",
    "Let's create the `Demo Dataset` that we will use for our demo."
   ]
  },
  {
   "cell_type": "code",
   "execution_count": 5,
   "metadata": {},
   "outputs": [],
   "source": [
    "dataset = orex.add_dataset(\n",
    "    name='Demo Dataset',\n",
    "    entity='Orion',\n",
    ")"
   ]
  },
  {
   "cell_type": "markdown",
   "metadata": {},
   "source": [
    "This call will try to create a new _Dataset_ object in the database and return it.\n",
    "\n",
    "We can now see the _Dataset_ that we just created using the `get_datasets` method:"
   ]
  },
  {
   "cell_type": "code",
   "execution_count": 6,
   "metadata": {},
   "outputs": [
    {
     "data": {
      "text/html": [
       "<div>\n",
       "<style scoped>\n",
       "    .dataframe tbody tr th:only-of-type {\n",
       "        vertical-align: middle;\n",
       "    }\n",
       "\n",
       "    .dataframe tbody tr th {\n",
       "        vertical-align: top;\n",
       "    }\n",
       "\n",
       "    .dataframe thead th {\n",
       "        text-align: right;\n",
       "    }\n",
       "</style>\n",
       "<table border=\"1\" class=\"dataframe\">\n",
       "  <thead>\n",
       "    <tr style=\"text-align: right;\">\n",
       "      <th></th>\n",
       "      <th>dataset_id</th>\n",
       "      <th>created_by</th>\n",
       "      <th>entity</th>\n",
       "      <th>insert_time</th>\n",
       "      <th>name</th>\n",
       "    </tr>\n",
       "  </thead>\n",
       "  <tbody>\n",
       "    <tr>\n",
       "      <th>0</th>\n",
       "      <td>6195280fe92a8b1a58e1ee9c</td>\n",
       "      <td>my_username</td>\n",
       "      <td>Orion</td>\n",
       "      <td>2021-11-17 16:04:31.181</td>\n",
       "      <td>Demo Dataset</td>\n",
       "    </tr>\n",
       "  </tbody>\n",
       "</table>\n",
       "</div>"
      ],
      "text/plain": [
       "                 dataset_id   created_by entity             insert_time  \\\n",
       "0  6195280fe92a8b1a58e1ee9c  my_username  Orion 2021-11-17 16:04:31.181   \n",
       "\n",
       "           name  \n",
       "0  Demo Dataset  "
      ]
     },
     "execution_count": 6,
     "metadata": {},
     "output_type": "execute_result"
    }
   ],
   "source": [
    "orex.get_datasets()"
   ]
  },
  {
   "cell_type": "markdown",
   "metadata": {},
   "source": [
    "### Add a Signal\n",
    "\n",
    "The next step is to add Signals. This can be done with the `add_signal` method, which expects:\n",
    "\n",
    "* `name (str)`: Name of the signal\n",
    "* `dataset (Dataset or ObjectID)`: Dataset Object or Dataset Id.\n",
    "* `start_time (int)`: (Optional) minimum timestamp to be used for this signal. If not given, it\n",
    "  defaults to the minimum timestamp found in the data.\n",
    "* `stop_time (int)`: (Optional) maximum timestamp to be used for this signal. If not given, it\n",
    "  defaults to the maximum timestamp found in the data.\n",
    "* `data_location (str)`: URI of the dataset\n",
    "* `timestamp_column (int)`: (Optional) index of the timestamp column. Defaults to 0.\n",
    "* `value_column (int)`: (Optional) index of the value column. Defaults to 1.\n",
    "\n",
    "For example, adding the `S-1` signal to the Demo Dataset that we just created could be done like\n",
    "this:"
   ]
  },
  {
   "cell_type": "code",
   "execution_count": 7,
   "metadata": {},
   "outputs": [
    {
     "data": {
      "text/plain": [
       "<Signal: Signal object>"
      ]
     },
     "execution_count": 7,
     "metadata": {},
     "output_type": "execute_result"
    }
   ],
   "source": [
    "import os\n",
    "\n",
    "orex.add_signal(\n",
    "    name='S-1',\n",
    "    dataset=dataset,\n",
    "    data_location=os.path.join('orion-data', 'S-1.csv')\n",
    ")"
   ]
  },
  {
   "cell_type": "markdown",
   "metadata": {},
   "source": [
    "Additionally, we can also add all the signals that exist inside a folder by using the `add_signals`\n",
    "method, passing a `signals_path`:"
   ]
  },
  {
   "cell_type": "code",
   "execution_count": 8,
   "metadata": {},
   "outputs": [],
   "source": [
    "orex.add_signals(\n",
    "    dataset=dataset,\n",
    "    signals_path='orion-data'\n",
    ")"
   ]
  },
  {
   "cell_type": "markdown",
   "metadata": {},
   "source": [
    "After this is done, we can see that one signal has been created for each one of the CSV\n",
    "files that we downloaded before."
   ]
  },
  {
   "cell_type": "code",
   "execution_count": 9,
   "metadata": {},
   "outputs": [
    {
     "data": {
      "text/html": [
       "<div>\n",
       "<style scoped>\n",
       "    .dataframe tbody tr th:only-of-type {\n",
       "        vertical-align: middle;\n",
       "    }\n",
       "\n",
       "    .dataframe tbody tr th {\n",
       "        vertical-align: top;\n",
       "    }\n",
       "\n",
       "    .dataframe thead th {\n",
       "        text-align: right;\n",
       "    }\n",
       "</style>\n",
       "<table border=\"1\" class=\"dataframe\">\n",
       "  <thead>\n",
       "    <tr style=\"text-align: right;\">\n",
       "      <th></th>\n",
       "      <th>signal_id</th>\n",
       "      <th>created_by</th>\n",
       "      <th>data_location</th>\n",
       "      <th>dataset</th>\n",
       "      <th>insert_time</th>\n",
       "      <th>name</th>\n",
       "      <th>start_time</th>\n",
       "      <th>stop_time</th>\n",
       "    </tr>\n",
       "  </thead>\n",
       "  <tbody>\n",
       "    <tr>\n",
       "      <th>0</th>\n",
       "      <td>6195280fe92a8b1a58e1ee9d</td>\n",
       "      <td>my_username</td>\n",
       "      <td>orion-data/S-1.csv</td>\n",
       "      <td>6195280fe92a8b1a58e1ee9c</td>\n",
       "      <td>2021-11-17 16:04:31.527</td>\n",
       "      <td>S-1</td>\n",
       "      <td>1222819200</td>\n",
       "      <td>1442016000</td>\n",
       "    </tr>\n",
       "    <tr>\n",
       "      <th>1</th>\n",
       "      <td>6195280fe92a8b1a58e1ee9f</td>\n",
       "      <td>my_username</td>\n",
       "      <td>orion-data/P-1.csv</td>\n",
       "      <td>6195280fe92a8b1a58e1ee9c</td>\n",
       "      <td>2021-11-17 16:04:31.810</td>\n",
       "      <td>P-1</td>\n",
       "      <td>1222819200</td>\n",
       "      <td>1468540800</td>\n",
       "    </tr>\n",
       "    <tr>\n",
       "      <th>2</th>\n",
       "      <td>6195280fe92a8b1a58e1eea0</td>\n",
       "      <td>my_username</td>\n",
       "      <td>orion-data/E-1.csv</td>\n",
       "      <td>6195280fe92a8b1a58e1ee9c</td>\n",
       "      <td>2021-11-17 16:04:31.826</td>\n",
       "      <td>E-1</td>\n",
       "      <td>1222819200</td>\n",
       "      <td>1468951200</td>\n",
       "    </tr>\n",
       "  </tbody>\n",
       "</table>\n",
       "</div>"
      ],
      "text/plain": [
       "                  signal_id   created_by       data_location  \\\n",
       "0  6195280fe92a8b1a58e1ee9d  my_username  orion-data/S-1.csv   \n",
       "1  6195280fe92a8b1a58e1ee9f  my_username  orion-data/P-1.csv   \n",
       "2  6195280fe92a8b1a58e1eea0  my_username  orion-data/E-1.csv   \n",
       "\n",
       "                    dataset             insert_time name  start_time  \\\n",
       "0  6195280fe92a8b1a58e1ee9c 2021-11-17 16:04:31.527  S-1  1222819200   \n",
       "1  6195280fe92a8b1a58e1ee9c 2021-11-17 16:04:31.810  P-1  1222819200   \n",
       "2  6195280fe92a8b1a58e1ee9c 2021-11-17 16:04:31.826  E-1  1222819200   \n",
       "\n",
       "    stop_time  \n",
       "0  1442016000  \n",
       "1  1468540800  \n",
       "2  1468951200  "
      ]
     },
     "execution_count": 9,
     "metadata": {},
     "output_type": "execute_result"
    }
   ],
   "source": [
    "orex.get_signals(dataset=dataset)"
   ]
  },
  {
   "cell_type": "markdown",
   "metadata": {},
   "source": [
    "### Add a Template\n",
    "\n",
    "The next thing we need to add is a _Template_ to the Database using the `add_template` method.\n",
    "\n",
    "This method expects:\n",
    "\n",
    "* `name (str)`: Name of the template.\n",
    "* `template (dict or str)`: Optional. Specification of the template to use, which can be one of:\n",
    "    * An MLPipeline instance\n",
    "    * The name of a registered template\n",
    "    * a dict containing the MLPipeline details\n",
    "    * The path to a pipeline JSON file.\n",
    "    \n",
    "**Orion** comes with a few templates ready to be used, so let's have a look at the ones that exist\n",
    "using the `orion.get_available_templates` function."
   ]
  },
  {
   "cell_type": "code",
   "execution_count": 10,
   "metadata": {},
   "outputs": [
    {
     "data": {
      "text/plain": [
       "['azure',\n",
       " 'arima',\n",
       " 'dense_autoencoder',\n",
       " 'tadgan',\n",
       " 'lstm_autoencoder',\n",
       " 'lstm_dynamic_threshold',\n",
       " 'dummy']"
      ]
     },
     "execution_count": 10,
     "metadata": {},
     "output_type": "execute_result"
    }
   ],
   "source": [
    "from orion.analysis import get_available_templates\n",
    "\n",
    "get_available_templates()"
   ]
  },
  {
   "cell_type": "markdown",
   "metadata": {},
   "source": [
    "And now let's create a _Template_ using the `lstm_dynamic_threshold` template."
   ]
  },
  {
   "cell_type": "code",
   "execution_count": 11,
   "metadata": {},
   "outputs": [
    {
     "name": "stderr",
     "output_type": "stream",
     "text": [
      "Using TensorFlow backend.\n"
     ]
    }
   ],
   "source": [
    "template = orex.add_template(\n",
    "    name='lstmdt',\n",
    "    template='lstm_dynamic_threshold',\n",
    ")"
   ]
  },
  {
   "cell_type": "markdown",
   "metadata": {},
   "source": [
    "We can now see the _Template_ that we just created"
   ]
  },
  {
   "cell_type": "code",
   "execution_count": 12,
   "metadata": {},
   "outputs": [
    {
     "data": {
      "text/html": [
       "<div>\n",
       "<style scoped>\n",
       "    .dataframe tbody tr th:only-of-type {\n",
       "        vertical-align: middle;\n",
       "    }\n",
       "\n",
       "    .dataframe tbody tr th {\n",
       "        vertical-align: top;\n",
       "    }\n",
       "\n",
       "    .dataframe thead th {\n",
       "        text-align: right;\n",
       "    }\n",
       "</style>\n",
       "<table border=\"1\" class=\"dataframe\">\n",
       "  <thead>\n",
       "    <tr style=\"text-align: right;\">\n",
       "      <th></th>\n",
       "      <th>template_id</th>\n",
       "      <th>created_by</th>\n",
       "      <th>insert_time</th>\n",
       "      <th>name</th>\n",
       "    </tr>\n",
       "  </thead>\n",
       "  <tbody>\n",
       "    <tr>\n",
       "      <th>0</th>\n",
       "      <td>6195281ce92a8b1a58e1eea1</td>\n",
       "      <td>my_username</td>\n",
       "      <td>2021-11-17 16:04:44.180</td>\n",
       "      <td>lstmdt</td>\n",
       "    </tr>\n",
       "  </tbody>\n",
       "</table>\n",
       "</div>"
      ],
      "text/plain": [
       "                template_id   created_by             insert_time    name\n",
       "0  6195281ce92a8b1a58e1eea1  my_username 2021-11-17 16:04:44.180  lstmdt"
      ]
     },
     "execution_count": 12,
     "metadata": {},
     "output_type": "execute_result"
    }
   ],
   "source": [
    "orex.get_templates()"
   ]
  },
  {
   "cell_type": "markdown",
   "metadata": {},
   "source": [
    "Also, during this step, apart from a _Template_ object, a _Pipeline_ object has also been\n",
    "registred with the same name as the _Template_ and using the default hyperparameter values."
   ]
  },
  {
   "cell_type": "code",
   "execution_count": 13,
   "metadata": {},
   "outputs": [
    {
     "data": {
      "text/html": [
       "<div>\n",
       "<style scoped>\n",
       "    .dataframe tbody tr th:only-of-type {\n",
       "        vertical-align: middle;\n",
       "    }\n",
       "\n",
       "    .dataframe tbody tr th {\n",
       "        vertical-align: top;\n",
       "    }\n",
       "\n",
       "    .dataframe thead th {\n",
       "        text-align: right;\n",
       "    }\n",
       "</style>\n",
       "<table border=\"1\" class=\"dataframe\">\n",
       "  <thead>\n",
       "    <tr style=\"text-align: right;\">\n",
       "      <th></th>\n",
       "      <th>pipeline_id</th>\n",
       "      <th>created_by</th>\n",
       "      <th>insert_time</th>\n",
       "      <th>name</th>\n",
       "      <th>template</th>\n",
       "    </tr>\n",
       "  </thead>\n",
       "  <tbody>\n",
       "    <tr>\n",
       "      <th>0</th>\n",
       "      <td>6195281ce92a8b1a58e1eea2</td>\n",
       "      <td>my_username</td>\n",
       "      <td>2021-11-17 16:04:44.390</td>\n",
       "      <td>lstmdt</td>\n",
       "      <td>6195281ce92a8b1a58e1eea1</td>\n",
       "    </tr>\n",
       "  </tbody>\n",
       "</table>\n",
       "</div>"
      ],
      "text/plain": [
       "                pipeline_id   created_by             insert_time    name  \\\n",
       "0  6195281ce92a8b1a58e1eea2  my_username 2021-11-17 16:04:44.390  lstmdt   \n",
       "\n",
       "                   template  \n",
       "0  6195281ce92a8b1a58e1eea1  "
      ]
     },
     "execution_count": 13,
     "metadata": {},
     "output_type": "execute_result"
    }
   ],
   "source": [
    "orex.get_pipelines()"
   ]
  },
  {
   "cell_type": "markdown",
   "metadata": {},
   "source": [
    "However, if we want to use a configuration different from the default, we might want to\n",
    "create another _Pipeline_ with custom hyperparameter values.\n",
    "\n",
    "In order to do this we will need to call the `add_pipeline` method passing:\n",
    "\n",
    "* `name (str)`: Name given to this pipeline\n",
    "* `template (Template or ObjectID)`: Template or the corresponding id.\n",
    "* `hyperparameters (dict or str)`: dict containing the hyperparameter details or path to the\n",
    "  corresponding JSON file. Optional.\n",
    "\n",
    "For example, if we want to specify a different number of epochs for the LSTM primitive of the\n",
    "pipeline that we just created we will run:"
   ]
  },
  {
   "cell_type": "code",
   "execution_count": 14,
   "metadata": {},
   "outputs": [],
   "source": [
    "new_hyperparameters = {\n",
    "   'keras.Sequential.LSTMTimeSeriesRegressor#1': {\n",
    "       'epochs': 1,\n",
    "       'verbose': True\n",
    "   }\n",
    "}\n",
    "pipeline = orex.add_pipeline(\n",
    "   name='lstmdt_1_epoch',\n",
    "   template=template,\n",
    "   hyperparameters=new_hyperparameters,\n",
    ")"
   ]
  },
  {
   "cell_type": "markdown",
   "metadata": {},
   "source": [
    "And we can see how a new _Pipeline_ was created in the Database."
   ]
  },
  {
   "cell_type": "code",
   "execution_count": 15,
   "metadata": {},
   "outputs": [
    {
     "data": {
      "text/html": [
       "<div>\n",
       "<style scoped>\n",
       "    .dataframe tbody tr th:only-of-type {\n",
       "        vertical-align: middle;\n",
       "    }\n",
       "\n",
       "    .dataframe tbody tr th {\n",
       "        vertical-align: top;\n",
       "    }\n",
       "\n",
       "    .dataframe thead th {\n",
       "        text-align: right;\n",
       "    }\n",
       "</style>\n",
       "<table border=\"1\" class=\"dataframe\">\n",
       "  <thead>\n",
       "    <tr style=\"text-align: right;\">\n",
       "      <th></th>\n",
       "      <th>pipeline_id</th>\n",
       "      <th>created_by</th>\n",
       "      <th>insert_time</th>\n",
       "      <th>name</th>\n",
       "      <th>template</th>\n",
       "    </tr>\n",
       "  </thead>\n",
       "  <tbody>\n",
       "    <tr>\n",
       "      <th>0</th>\n",
       "      <td>6195281ce92a8b1a58e1eea2</td>\n",
       "      <td>my_username</td>\n",
       "      <td>2021-11-17 16:04:44.390</td>\n",
       "      <td>lstmdt</td>\n",
       "      <td>6195281ce92a8b1a58e1eea1</td>\n",
       "    </tr>\n",
       "    <tr>\n",
       "      <th>1</th>\n",
       "      <td>6195281ce92a8b1a58e1eea3</td>\n",
       "      <td>my_username</td>\n",
       "      <td>2021-11-17 16:04:44.656</td>\n",
       "      <td>lstmdt_1_epoch</td>\n",
       "      <td>6195281ce92a8b1a58e1eea1</td>\n",
       "    </tr>\n",
       "  </tbody>\n",
       "</table>\n",
       "</div>"
      ],
      "text/plain": [
       "                pipeline_id   created_by             insert_time  \\\n",
       "0  6195281ce92a8b1a58e1eea2  my_username 2021-11-17 16:04:44.390   \n",
       "1  6195281ce92a8b1a58e1eea3  my_username 2021-11-17 16:04:44.656   \n",
       "\n",
       "             name                  template  \n",
       "0          lstmdt  6195281ce92a8b1a58e1eea1  \n",
       "1  lstmdt_1_epoch  6195281ce92a8b1a58e1eea1  "
      ]
     },
     "execution_count": 15,
     "metadata": {},
     "output_type": "execute_result"
    }
   ],
   "source": [
    "orex.get_pipelines()"
   ]
  },
  {
   "cell_type": "markdown",
   "metadata": {},
   "source": [
    "### Add an Experiment\n",
    "\n",
    "Once we have a _Dataset_ with _Signals_ and a _Template_, we are ready to add an\n",
    "_Experiment_.\n",
    "\n",
    "In order to run an _Experiment_ we will need to:\n",
    "\n",
    "1. Get the _Dataset_ and the list of _Signals_ that we want to run the _Experiment_ on.\n",
    "2. Get the _Template_ which we want to use for the _Experiment_\n",
    "3. Call the `add_experiment` method passing all these with an experiment, a project name and a\n",
    "   username.\n",
    "\n",
    "For example, if we want to create an experiment using the _Dataset_, the _Signals_ and the\n",
    "_Template_ that we just created, we will use:"
   ]
  },
  {
   "cell_type": "code",
   "execution_count": 16,
   "metadata": {},
   "outputs": [],
   "source": [
    "experiment = orex.add_experiment(\n",
    "    name='My Experiment',\n",
    "    project='My Project',\n",
    "    template=template,\n",
    "    dataset=dataset,\n",
    ")"
   ]
  },
  {
   "cell_type": "markdown",
   "metadata": {},
   "source": [
    "This will create an _Experiment_ object in the database using the indicated _Template_\n",
    "and all the _Signals_ from the given _Dataset_."
   ]
  },
  {
   "cell_type": "code",
   "execution_count": 17,
   "metadata": {},
   "outputs": [
    {
     "data": {
      "text/html": [
       "<div>\n",
       "<style scoped>\n",
       "    .dataframe tbody tr th:only-of-type {\n",
       "        vertical-align: middle;\n",
       "    }\n",
       "\n",
       "    .dataframe tbody tr th {\n",
       "        vertical-align: top;\n",
       "    }\n",
       "\n",
       "    .dataframe thead th {\n",
       "        text-align: right;\n",
       "    }\n",
       "</style>\n",
       "<table border=\"1\" class=\"dataframe\">\n",
       "  <thead>\n",
       "    <tr style=\"text-align: right;\">\n",
       "      <th></th>\n",
       "      <th>experiment_id</th>\n",
       "      <th>created_by</th>\n",
       "      <th>dataset</th>\n",
       "      <th>insert_time</th>\n",
       "      <th>name</th>\n",
       "      <th>project</th>\n",
       "      <th>signals</th>\n",
       "      <th>template</th>\n",
       "    </tr>\n",
       "  </thead>\n",
       "  <tbody>\n",
       "    <tr>\n",
       "      <th>0</th>\n",
       "      <td>6195281ce92a8b1a58e1eea4</td>\n",
       "      <td>my_username</td>\n",
       "      <td>6195280fe92a8b1a58e1ee9c</td>\n",
       "      <td>2021-11-17 16:04:44.689</td>\n",
       "      <td>My Experiment</td>\n",
       "      <td>My Project</td>\n",
       "      <td>[6195280fe92a8b1a58e1ee9d, 6195280fe92a8b1a58e...</td>\n",
       "      <td>6195281ce92a8b1a58e1eea1</td>\n",
       "    </tr>\n",
       "  </tbody>\n",
       "</table>\n",
       "</div>"
      ],
      "text/plain": [
       "              experiment_id   created_by                   dataset  \\\n",
       "0  6195281ce92a8b1a58e1eea4  my_username  6195280fe92a8b1a58e1ee9c   \n",
       "\n",
       "              insert_time           name     project  \\\n",
       "0 2021-11-17 16:04:44.689  My Experiment  My Project   \n",
       "\n",
       "                                             signals                  template  \n",
       "0  [6195280fe92a8b1a58e1ee9d, 6195280fe92a8b1a58e...  6195281ce92a8b1a58e1eea1  "
      ]
     },
     "execution_count": 17,
     "metadata": {},
     "output_type": "execute_result"
    }
   ],
   "source": [
    "orex.get_experiments()"
   ]
  },
  {
   "cell_type": "markdown",
   "metadata": {},
   "source": [
    "## Starting a Datarun\n",
    "\n",
    "Once we have created our _Experiment_ object we are ready to start executing _Pipelines_ on our\n",
    "_Signals_.\n",
    "\n",
    "For this we will need to use the `orion.runner.start_datarun` function, which expects:\n",
    "\n",
    "* `orex (OrionExplorer)`: The `OrionDBExplorer` instance.\n",
    "* `experiment (Experiment or ObjectID)`: Experiment object or the corresponding ID.\n",
    "* `pipeline (Pipeline or ObjectID)`: Pipeline object or the corresponding ID.\n",
    "\n",
    "This will create a _Datarun_ object for this _Experiment_ and _Pipeline_ in the database,\n",
    "and then it will start creating and executing _Signalruns_, one for each _Signal_ in the _Experiment_."
   ]
  },
  {
   "cell_type": "markdown",
   "metadata": {},
   "source": [
    "Let's trigger a _Datarun_ using the `lstmdt_1_epoch` _Pipeline_ that we created."
   ]
  },
  {
   "cell_type": "code",
   "execution_count": 18,
   "metadata": {},
   "outputs": [
    {
     "name": "stderr",
     "output_type": "stream",
     "text": [
      "INFO:orion.runner:Datarun 6195281de92a8b1a58e1eea5 started\n",
      "INFO:orion.runner:Signalrun 6195281de92a8b1a58e1eea6 started\n",
      "INFO:orion.runner:Running pipeline lstmdt_1_epoch on signal S-1\n"
     ]
    },
    {
     "name": "stdout",
     "output_type": "stream",
     "text": [
      "Train on 7919 samples, validate on 1980 samples\n",
      "Epoch 1/1\n",
      "7919/7919 [==============================] - 29s 4ms/step - loss: 0.1948 - mse: 0.1948 - val_loss: 0.4434 - val_mse: 0.4434\n",
      "9899/9899 [==============================] - 11s 1ms/step\n"
     ]
    },
    {
     "name": "stderr",
     "output_type": "stream",
     "text": [
      "INFO:orion.runner:Processing pipeline lstmdt_1_epoch predictions on signal S-1\n",
      "INFO:orion.runner:Signalrun 61952849e92a8b1a58e1eea9 started\n",
      "INFO:orion.runner:Running pipeline lstmdt_1_epoch on signal P-1\n"
     ]
    },
    {
     "name": "stdout",
     "output_type": "stream",
     "text": [
      "Train on 8901 samples, validate on 2226 samples\n",
      "Epoch 1/1\n",
      "8901/8901 [==============================] - 33s 4ms/step - loss: 0.0961 - mse: 0.0961 - val_loss: 0.0559 - val_mse: 0.0559\n",
      "11127/11127 [==============================] - 12s 1ms/step\n"
     ]
    },
    {
     "name": "stderr",
     "output_type": "stream",
     "text": [
      "INFO:orion.runner:Processing pipeline lstmdt_1_epoch predictions on signal P-1\n",
      "INFO:orion.runner:Signalrun 6195287ce92a8b1a58e1eeaa started\n",
      "INFO:orion.runner:Running pipeline lstmdt_1_epoch on signal E-1\n"
     ]
    },
    {
     "name": "stdout",
     "output_type": "stream",
     "text": [
      "Train on 8916 samples, validate on 2230 samples\n",
      "Epoch 1/1\n",
      "8916/8916 [==============================] - 34s 4ms/step - loss: 0.2440 - mse: 0.2440 - val_loss: 0.1317 - val_mse: 0.1317\n",
      "11146/11146 [==============================] - 12s 1ms/step\n"
     ]
    },
    {
     "name": "stderr",
     "output_type": "stream",
     "text": [
      "INFO:orion.runner:Processing pipeline lstmdt_1_epoch predictions on signal E-1\n"
     ]
    }
   ],
   "source": [
    "from orion.runner import start_datarun\n",
    "\n",
    "start_datarun(orex, experiment, pipeline)"
   ]
  },
  {
   "cell_type": "markdown",
   "metadata": {},
   "source": [
    "## Explore the results\n",
    "\n",
    "Once a _Datarun_ has finished, we can see can see its status by using the `orex.get_dataruns` method."
   ]
  },
  {
   "cell_type": "code",
   "execution_count": 19,
   "metadata": {},
   "outputs": [
    {
     "data": {
      "text/html": [
       "<div>\n",
       "<style scoped>\n",
       "    .dataframe tbody tr th:only-of-type {\n",
       "        vertical-align: middle;\n",
       "    }\n",
       "\n",
       "    .dataframe tbody tr th {\n",
       "        vertical-align: top;\n",
       "    }\n",
       "\n",
       "    .dataframe thead th {\n",
       "        text-align: right;\n",
       "    }\n",
       "</style>\n",
       "<table border=\"1\" class=\"dataframe\">\n",
       "  <thead>\n",
       "    <tr style=\"text-align: right;\">\n",
       "      <th></th>\n",
       "      <th>datarun_id</th>\n",
       "      <th>end_time</th>\n",
       "      <th>experiment</th>\n",
       "      <th>insert_time</th>\n",
       "      <th>num_events</th>\n",
       "      <th>pipeline</th>\n",
       "      <th>start_time</th>\n",
       "      <th>status</th>\n",
       "    </tr>\n",
       "  </thead>\n",
       "  <tbody>\n",
       "    <tr>\n",
       "      <th>0</th>\n",
       "      <td>6195281de92a8b1a58e1eea5</td>\n",
       "      <td>2021-11-17 16:07:11.552</td>\n",
       "      <td>6195281ce92a8b1a58e1eea4</td>\n",
       "      <td>2021-11-17 16:04:44.938</td>\n",
       "      <td>3</td>\n",
       "      <td>6195281ce92a8b1a58e1eea3</td>\n",
       "      <td>2021-11-17 16:04:45.100</td>\n",
       "      <td>SUCCESS</td>\n",
       "    </tr>\n",
       "  </tbody>\n",
       "</table>\n",
       "</div>"
      ],
      "text/plain": [
       "                 datarun_id                end_time                experiment  \\\n",
       "0  6195281de92a8b1a58e1eea5 2021-11-17 16:07:11.552  6195281ce92a8b1a58e1eea4   \n",
       "\n",
       "              insert_time  num_events                  pipeline  \\\n",
       "0 2021-11-17 16:04:44.938           3  6195281ce92a8b1a58e1eea3   \n",
       "\n",
       "               start_time   status  \n",
       "0 2021-11-17 16:04:45.100  SUCCESS  "
      ]
     },
     "execution_count": 19,
     "metadata": {},
     "output_type": "execute_result"
    }
   ],
   "source": [
    "orex.get_dataruns()"
   ]
  },
  {
   "cell_type": "markdown",
   "metadata": {},
   "source": [
    "As well as the _Signalruns_ and _Events_ that were created."
   ]
  },
  {
   "cell_type": "code",
   "execution_count": 20,
   "metadata": {},
   "outputs": [
    {
     "data": {
      "text/html": [
       "<div>\n",
       "<style scoped>\n",
       "    .dataframe tbody tr th:only-of-type {\n",
       "        vertical-align: middle;\n",
       "    }\n",
       "\n",
       "    .dataframe tbody tr th {\n",
       "        vertical-align: top;\n",
       "    }\n",
       "\n",
       "    .dataframe thead th {\n",
       "        text-align: right;\n",
       "    }\n",
       "</style>\n",
       "<table border=\"1\" class=\"dataframe\">\n",
       "  <thead>\n",
       "    <tr style=\"text-align: right;\">\n",
       "      <th></th>\n",
       "      <th>signalrun_id</th>\n",
       "      <th>datarun</th>\n",
       "      <th>end_time</th>\n",
       "      <th>insert_time</th>\n",
       "      <th>num_events</th>\n",
       "      <th>signal</th>\n",
       "      <th>start_time</th>\n",
       "      <th>status</th>\n",
       "    </tr>\n",
       "  </thead>\n",
       "  <tbody>\n",
       "    <tr>\n",
       "      <th>0</th>\n",
       "      <td>6195281de92a8b1a58e1eea6</td>\n",
       "      <td>6195281de92a8b1a58e1eea5</td>\n",
       "      <td>2021-11-17 16:05:29.676</td>\n",
       "      <td>2021-11-17 16:04:45.112</td>\n",
       "      <td>2</td>\n",
       "      <td>6195280fe92a8b1a58e1ee9d</td>\n",
       "      <td>2021-11-17 16:04:45.291</td>\n",
       "      <td>SUCCESS</td>\n",
       "    </tr>\n",
       "    <tr>\n",
       "      <th>1</th>\n",
       "      <td>61952849e92a8b1a58e1eea9</td>\n",
       "      <td>6195281de92a8b1a58e1eea5</td>\n",
       "      <td>2021-11-17 16:06:20.169</td>\n",
       "      <td>2021-11-17 16:05:29.678</td>\n",
       "      <td>0</td>\n",
       "      <td>6195280fe92a8b1a58e1ee9f</td>\n",
       "      <td>2021-11-17 16:05:29.679</td>\n",
       "      <td>SUCCESS</td>\n",
       "    </tr>\n",
       "    <tr>\n",
       "      <th>2</th>\n",
       "      <td>6195287ce92a8b1a58e1eeaa</td>\n",
       "      <td>6195281de92a8b1a58e1eea5</td>\n",
       "      <td>2021-11-17 16:07:11.550</td>\n",
       "      <td>2021-11-17 16:06:20.170</td>\n",
       "      <td>1</td>\n",
       "      <td>6195280fe92a8b1a58e1eea0</td>\n",
       "      <td>2021-11-17 16:06:20.171</td>\n",
       "      <td>SUCCESS</td>\n",
       "    </tr>\n",
       "  </tbody>\n",
       "</table>\n",
       "</div>"
      ],
      "text/plain": [
       "               signalrun_id                   datarun                end_time  \\\n",
       "0  6195281de92a8b1a58e1eea6  6195281de92a8b1a58e1eea5 2021-11-17 16:05:29.676   \n",
       "1  61952849e92a8b1a58e1eea9  6195281de92a8b1a58e1eea5 2021-11-17 16:06:20.169   \n",
       "2  6195287ce92a8b1a58e1eeaa  6195281de92a8b1a58e1eea5 2021-11-17 16:07:11.550   \n",
       "\n",
       "              insert_time  num_events                    signal  \\\n",
       "0 2021-11-17 16:04:45.112           2  6195280fe92a8b1a58e1ee9d   \n",
       "1 2021-11-17 16:05:29.678           0  6195280fe92a8b1a58e1ee9f   \n",
       "2 2021-11-17 16:06:20.170           1  6195280fe92a8b1a58e1eea0   \n",
       "\n",
       "               start_time   status  \n",
       "0 2021-11-17 16:04:45.291  SUCCESS  \n",
       "1 2021-11-17 16:05:29.679  SUCCESS  \n",
       "2 2021-11-17 16:06:20.171  SUCCESS  "
      ]
     },
     "execution_count": 20,
     "metadata": {},
     "output_type": "execute_result"
    }
   ],
   "source": [
    "datarun = orex.get_datarun(experiment=experiment)\n",
    "signalruns = orex.get_signalruns(datarun=datarun)\n",
    "signalruns"
   ]
  },
  {
   "cell_type": "code",
   "execution_count": 21,
   "metadata": {},
   "outputs": [
    {
     "data": {
      "text/html": [
       "<div>\n",
       "<style scoped>\n",
       "    .dataframe tbody tr th:only-of-type {\n",
       "        vertical-align: middle;\n",
       "    }\n",
       "\n",
       "    .dataframe tbody tr th {\n",
       "        vertical-align: top;\n",
       "    }\n",
       "\n",
       "    .dataframe thead th {\n",
       "        text-align: right;\n",
       "    }\n",
       "</style>\n",
       "<table border=\"1\" class=\"dataframe\">\n",
       "  <thead>\n",
       "    <tr style=\"text-align: right;\">\n",
       "      <th></th>\n",
       "      <th>event_id</th>\n",
       "      <th>insert_time</th>\n",
       "      <th>num_annotations</th>\n",
       "      <th>severity</th>\n",
       "      <th>signal</th>\n",
       "      <th>signalrun</th>\n",
       "      <th>source</th>\n",
       "      <th>start_time</th>\n",
       "      <th>stop_time</th>\n",
       "    </tr>\n",
       "  </thead>\n",
       "  <tbody>\n",
       "    <tr>\n",
       "      <th>0</th>\n",
       "      <td>619528afe92a8b1a58e1eeab</td>\n",
       "      <td>2021-11-17 16:07:11.549</td>\n",
       "      <td>0</td>\n",
       "      <td>0.270878</td>\n",
       "      <td>6195280fe92a8b1a58e1eea0</td>\n",
       "      <td>6195287ce92a8b1a58e1eeaa</td>\n",
       "      <td>ORION</td>\n",
       "      <td>1392616800</td>\n",
       "      <td>1395252000</td>\n",
       "    </tr>\n",
       "  </tbody>\n",
       "</table>\n",
       "</div>"
      ],
      "text/plain": [
       "                   event_id             insert_time  num_annotations  \\\n",
       "0  619528afe92a8b1a58e1eeab 2021-11-17 16:07:11.549                0   \n",
       "\n",
       "   severity                    signal                 signalrun source  \\\n",
       "0  0.270878  6195280fe92a8b1a58e1eea0  6195287ce92a8b1a58e1eeaa  ORION   \n",
       "\n",
       "   start_time   stop_time  \n",
       "0  1392616800  1395252000  "
      ]
     },
     "execution_count": 21,
     "metadata": {},
     "output_type": "execute_result"
    }
   ],
   "source": [
    "signalrun_id = signalruns['signalrun_id'].iloc[-1]\n",
    "orex.get_events(signalrun=signalrun_id)"
   ]
  },
  {
   "cell_type": "markdown",
   "metadata": {},
   "source": [
    "## Add Manual Events and Annotations\n",
    "\n",
    "If we want to add new events manually, we can do so by calling the `add_event` method and\n",
    "passing:\n",
    "\n",
    "* `start_time (int)`: The timestamp at which the event starts\n",
    "* `stop_time (int)`: The timestamp at which the event ends\n",
    "* `source (str)`: If manual, the string `MANUALLY_CREATED`.\n",
    "* `signal (Signal or ObjectID or str)`: The id to which the Event is associated."
   ]
  },
  {
   "cell_type": "code",
   "execution_count": 22,
   "metadata": {},
   "outputs": [],
   "source": [
    "signal = orex.get_signal(name='P-1')\n",
    "event = orex.add_event(\n",
    "    start_time=1393758300,\n",
    "    stop_time=1408270800,\n",
    "    source='MANUALLY_CREATED',\n",
    "    signal=signal\n",
    ")"
   ]
  },
  {
   "cell_type": "markdown",
   "metadata": {},
   "source": [
    "And, optionally, add annotations to any of the events."
   ]
  },
  {
   "cell_type": "code",
   "execution_count": 23,
   "metadata": {},
   "outputs": [
    {
     "data": {
      "text/plain": [
       "<Annotation: Annotation object>"
      ]
     },
     "execution_count": 23,
     "metadata": {},
     "output_type": "execute_result"
    }
   ],
   "source": [
    "orex.add_annotation(\n",
    "    event=event,\n",
    "    tag='maneuver',\n",
    "    comment='satellite was maneuvering during this period'\n",
    ")"
   ]
  },
  {
   "cell_type": "code",
   "execution_count": 24,
   "metadata": {},
   "outputs": [
    {
     "data": {
      "text/plain": [
       "<Annotation: Annotation object>"
      ]
     },
     "execution_count": 24,
     "metadata": {},
     "output_type": "execute_result"
    }
   ],
   "source": [
    "unknown_event = orex.get_events().event_id.iloc[0]\n",
    "orex.add_annotation(\n",
    "    event=unknown_event,\n",
    "    tag='unknown',\n",
    "    comment='this needs to be investigated'\n",
    ")"
   ]
  },
  {
   "cell_type": "markdown",
   "metadata": {},
   "source": [
    "We can then see the annotations that we just created"
   ]
  },
  {
   "cell_type": "code",
   "execution_count": 25,
   "metadata": {},
   "outputs": [
    {
     "data": {
      "text/html": [
       "<div>\n",
       "<style scoped>\n",
       "    .dataframe tbody tr th:only-of-type {\n",
       "        vertical-align: middle;\n",
       "    }\n",
       "\n",
       "    .dataframe tbody tr th {\n",
       "        vertical-align: top;\n",
       "    }\n",
       "\n",
       "    .dataframe thead th {\n",
       "        text-align: right;\n",
       "    }\n",
       "</style>\n",
       "<table border=\"1\" class=\"dataframe\">\n",
       "  <thead>\n",
       "    <tr style=\"text-align: right;\">\n",
       "      <th></th>\n",
       "      <th>annotation_id</th>\n",
       "      <th>comment</th>\n",
       "      <th>event</th>\n",
       "      <th>insert_time</th>\n",
       "      <th>tag</th>\n",
       "    </tr>\n",
       "  </thead>\n",
       "  <tbody>\n",
       "    <tr>\n",
       "      <th>0</th>\n",
       "      <td>619528afe92a8b1a58e1eead</td>\n",
       "      <td>satellite was maneuvering during this period</td>\n",
       "      <td>619528afe92a8b1a58e1eeac</td>\n",
       "      <td>2021-11-17 16:07:11.666</td>\n",
       "      <td>maneuver</td>\n",
       "    </tr>\n",
       "    <tr>\n",
       "      <th>1</th>\n",
       "      <td>619528afe92a8b1a58e1eeae</td>\n",
       "      <td>this needs to be investigated</td>\n",
       "      <td>61952849e92a8b1a58e1eea7</td>\n",
       "      <td>2021-11-17 16:07:11.851</td>\n",
       "      <td>unknown</td>\n",
       "    </tr>\n",
       "  </tbody>\n",
       "</table>\n",
       "</div>"
      ],
      "text/plain": [
       "              annotation_id                                       comment  \\\n",
       "0  619528afe92a8b1a58e1eead  satellite was maneuvering during this period   \n",
       "1  619528afe92a8b1a58e1eeae                 this needs to be investigated   \n",
       "\n",
       "                      event             insert_time       tag  \n",
       "0  619528afe92a8b1a58e1eeac 2021-11-17 16:07:11.666  maneuver  \n",
       "1  61952849e92a8b1a58e1eea7 2021-11-17 16:07:11.851   unknown  "
      ]
     },
     "execution_count": 25,
     "metadata": {},
     "output_type": "execute_result"
    }
   ],
   "source": [
    "orex.get_annotations()"
   ]
  }
 ],
 "metadata": {
  "kernelspec": {
   "display_name": "Python 3",
   "language": "python",
   "name": "python3"
  },
  "language_info": {
   "codemirror_mode": {
    "name": "ipython",
    "version": 3
   },
   "file_extension": ".py",
   "mimetype": "text/x-python",
   "name": "python",
   "nbconvert_exporter": "python",
   "pygments_lexer": "ipython3",
   "version": "3.7.11"
  }
 },
 "nbformat": 4,
 "nbformat_minor": 2
}
